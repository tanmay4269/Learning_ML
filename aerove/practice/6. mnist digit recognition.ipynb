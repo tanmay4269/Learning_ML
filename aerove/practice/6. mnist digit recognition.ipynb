{
 "cells": [
  {
   "cell_type": "code",
   "execution_count": 29,
   "metadata": {},
   "outputs": [
    {
     "name": "stdout",
     "output_type": "stream",
     "text": [
      "Size of an image in each row: (28, 28)\n",
      "Number of training examples: 60000\n"
     ]
    }
   ],
   "source": [
    "import idx2numpy\n",
    "import numpy as np\n",
    "\n",
    "\"\"\" LOADING DATASET \"\"\"\n",
    "train_images_file = 'assets/MNIST/train-images.idx3-ubyte'\n",
    "train_images_array = idx2numpy.convert_from_file(train_images_file).T\n",
    "\n",
    "train_labels_file = 'assets/MNIST/train-labels.idx1-ubyte'\n",
    "train_labels_array = idx2numpy.convert_from_file(train_labels_file).T\n",
    "\n",
    "test_images_file = 'assets/MNIST/test-images.idx3-ubyte'\n",
    "test_images_array = idx2numpy.convert_from_file(test_images_file).T\n",
    "\n",
    "test_labels_file = 'assets/MNIST/test-labels.idx1-ubyte'\n",
    "test_labels_array = idx2numpy.convert_from_file(test_labels_file).T\n",
    "\n",
    "print(f\"Size of an image in each row: {train_images_array.shape[:2]}\")\n",
    "print(f\"Number of training examples: {train_images_array.shape[-1]}\")"
   ]
  },
  {
   "cell_type": "code",
   "execution_count": 33,
   "metadata": {},
   "outputs": [
    {
     "name": "stdout",
     "output_type": "stream",
     "text": [
      "Training array: (784, 60000) \n",
      "Training labels: (1, 60000)\n"
     ]
    }
   ],
   "source": [
    "X = train_images_array.reshape(\n",
    "    (-1, train_images_array.shape[-1])\n",
    ")\n",
    "\n",
    "Y = train_labels_array.reshape(1, -1)\n",
    "\n",
    "print(f\"Training array: {X.shape} \\nTraining labels: {Y.shape}\")"
   ]
  },
  {
   "cell_type": "code",
   "execution_count": null,
   "metadata": {},
   "outputs": [],
   "source": [
    "\"\"\" UTILS \"\"\"\n",
    "def g_h(z):  # for hidden layers\n",
    "    \"\"\"\n",
    "    Try:\n",
    "    1. sigmoid\n",
    "    2. tanh\n",
    "    3. ReLU (using now)\n",
    "    4. Leaky ReLU\n",
    "    \"\"\"\n",
    "    return np.maximum(0, z)\n",
    "\n",
    "def g_y(z):\n",
    "    return 1 / (1 + np.exp(-z))"
   ]
  },
  {
   "cell_type": "code",
   "execution_count": null,
   "metadata": {},
   "outputs": [],
   "source": [
    "def initialise_parameters(n_x, n_h1, n_h2, n_y):\n",
    "    np.random.seed(69)\n",
    "\n",
    "    W1 = np.random.uniform(-0.01, 0.01, (n_h1, n_x))\n",
    "    b1 = np.zeros((n_h1, 1))\n",
    "\n",
    "    W2 = np.random.uniform(-0.01, 0.01, (n_h2, n_h1))\n",
    "    b2 = np.zeros((n_h2, 1))\n",
    "\n",
    "    W3 = np.random.uniform(-0.01, 0.01, (n_y, n_h2))\n",
    "    b3 = np.zeros((n_y, 1))\n",
    "\n",
    "    parameters = {\n",
    "        \"W1\": W1,\n",
    "        \"b1\": b1,\n",
    "\n",
    "        \"W2\": W2,\n",
    "        \"b2\": b2,\n",
    "\n",
    "        \"W3\": W3,\n",
    "        \"b3\": b3\n",
    "    }\n",
    "\n",
    "    return parameters"
   ]
  },
  {
   "cell_type": "code",
   "execution_count": null,
   "metadata": {},
   "outputs": [],
   "source": [
    "def layer_sizes(X, Y):\n",
    "    n_x = X.shape[1]\n",
    "    n_h1 = 16\n",
    "    n_h2 = 16\n",
    "    n_y  = 10\n",
    "    \n",
    "    return (n_x, n_h1, n_h2, n_y)"
   ]
  },
  {
   "cell_type": "code",
   "execution_count": null,
   "metadata": {},
   "outputs": [],
   "source": [
    "def forward_propogation(X, parameters):\n",
    "    # fetch data\n",
    "    W1 = parameters['W1']\n",
    "    b1 = parameters['b1']\n",
    "\n",
    "    W2 = parameters['W2']\n",
    "    b2 = parameters['b2']\n",
    "    \n",
    "    W3 = parameters['W3']\n",
    "    b3 = parameters['b3']\n",
    "\n",
    "    # Forward Propagation\n",
    "    Z1 = np.dot(W1, X) + b1\n",
    "    A1 = g_h(Z1)\n",
    "    \n",
    "    Z2 = np.dot(W2, A1) + b1\n",
    "    A2 = g_h(Z2)\n",
    "    \n",
    "    Z3 = np.dot(W3, A2) + b1\n",
    "    A3 = g_h(Z3)\n",
    "\n",
    "    # Caching for backpragation\n",
    "    cache = {\n",
    "        \"Z1\": Z1,\n",
    "        \"A1\": A1,\n",
    "        \n",
    "        \"Z2\": Z2,\n",
    "        \"A2\": A2,\n",
    "        \n",
    "        \"Z3\": Z3,\n",
    "        \"A3\": A3\n",
    "    }\n",
    "\n",
    "    return A3, cache"
   ]
  },
  {
   "cell_type": "code",
   "execution_count": null,
   "metadata": {},
   "outputs": [],
   "source": [
    "def compute_cost(A3, Y, parameters):\n",
    "    m = Y.shape[1]\n",
    "    logprobs = (Y * np.log(A3)) + ((1 - Y) * np.log(1 - A3))\n",
    "    cost = (-1/m) * np.sum(logprobs)\n",
    "    cost = float(np.squeeze(cost))  # fixes dimentions\n",
    "\n",
    "    return cost  # a scaler"
   ]
  }
 ],
 "metadata": {
  "kernelspec": {
   "display_name": "Python 3",
   "language": "python",
   "name": "python3"
  },
  "language_info": {
   "codemirror_mode": {
    "name": "ipython",
    "version": 3
   },
   "file_extension": ".py",
   "mimetype": "text/x-python",
   "name": "python",
   "nbconvert_exporter": "python",
   "pygments_lexer": "ipython3",
   "version": "3.11.3"
  },
  "orig_nbformat": 4
 },
 "nbformat": 4,
 "nbformat_minor": 2
}
