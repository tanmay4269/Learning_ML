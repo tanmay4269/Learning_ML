{
 "cells": [
  {
   "cell_type": "code",
   "execution_count": null,
   "metadata": {},
   "outputs": [],
   "source": [
    "import idx2numpy\n",
    "import numpy as np\n",
    "\n",
    "train_images_file = 'assets/MNIST/train-images.idx3-ubyte'\n",
    "train_images_array = idx2numpy.convert_from_file(train_images_file)\n",
    "\n",
    "train_labels_file = 'assets/MNIST/train-labels.idx1-ubyte'\n",
    "train_labels_array = idx2numpy.convert_from_file(train_labels_file)\n",
    "\n",
    "test_images_file = 'assets/MNIST/test-images.idx3-ubyte'\n",
    "test_images_array = idx2numpy.convert_from_file(test_images_file)\n",
    "\n",
    "test_labels_file = 'assets/MNIST/test-labels.idx1-ubyte'\n",
    "test_labels_array = idx2numpy.convert_from_file(test_labels_file)\n"
   ]
  }
 ],
 "metadata": {
  "kernelspec": {
   "display_name": "Python 3",
   "language": "python",
   "name": "python3"
  },
  "language_info": {
   "name": "python",
   "version": "3.11.3"
  },
  "orig_nbformat": 4
 },
 "nbformat": 4,
 "nbformat_minor": 2
}
