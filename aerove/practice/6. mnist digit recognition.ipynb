{
 "cells": [
  {
   "cell_type": "code",
   "execution_count": 157,
   "metadata": {},
   "outputs": [
    {
     "name": "stdout",
     "output_type": "stream",
     "text": [
      "Size of an image in each row: (28, 28)\n",
      "Number of training examples: 60000\n"
     ]
    }
   ],
   "source": [
    "import idx2numpy\n",
    "import numpy as np\n",
    "\n",
    "\"\"\" LOADING DATASET \"\"\"\n",
    "train_images_file = 'assets/MNIST/train-images.idx3-ubyte'\n",
    "train_images_array = idx2numpy.convert_from_file(train_images_file).T\n",
    "\n",
    "train_labels_file = 'assets/MNIST/train-labels.idx1-ubyte'\n",
    "train_labels_array = idx2numpy.convert_from_file(train_labels_file).T\n",
    "\n",
    "test_images_file = 'assets/MNIST/test-images.idx3-ubyte'\n",
    "test_images_array = idx2numpy.convert_from_file(test_images_file).T\n",
    "\n",
    "test_labels_file = 'assets/MNIST/test-labels.idx1-ubyte'\n",
    "test_labels_array = idx2numpy.convert_from_file(test_labels_file).T\n",
    "\n",
    "print(f\"Size of an image in each row: {train_images_array.shape[:2]}\")\n",
    "print(f\"Number of training examples: {train_images_array.shape[-1]}\")"
   ]
  },
  {
   "cell_type": "code",
   "execution_count": 158,
   "metadata": {},
   "outputs": [
    {
     "name": "stdout",
     "output_type": "stream",
     "text": [
      "Training array: (784, 60000) \n",
      "Training labels: (1, 60000)\n"
     ]
    }
   ],
   "source": [
    "X = train_images_array.reshape(\n",
    "    (-1, train_images_array.shape[-1])\n",
    ")\n",
    "\n",
    "Y = train_labels_array.reshape(1, -1)\n",
    "\n",
    "print(f\"Training array: {X.shape} \\nTraining labels: {Y.shape}\")"
   ]
  },
  {
   "cell_type": "code",
   "execution_count": 159,
   "metadata": {},
   "outputs": [],
   "source": [
    "\"\"\" UTILS \"\"\"\n",
    "def g_h(z):  # for hidden layers\n",
    "    \"\"\"\n",
    "    Try:\n",
    "    1. sigmoid\n",
    "    2. tanh\n",
    "    3. ReLU (using now)\n",
    "    4. Leaky ReLU\n",
    "    \"\"\"\n",
    "    return np.maximum(0, z)\n",
    "\n",
    "def g_y(z):\n",
    "    return 1 / (1 + np.exp(-z))"
   ]
  },
  {
   "cell_type": "code",
   "execution_count": 160,
   "metadata": {},
   "outputs": [],
   "source": [
    "def initialise_parameters(n_x, n_h1, n_h2, n_y):\n",
    "    np.random.seed(69)\n",
    "\n",
    "    W1 = np.random.uniform(-0.01, 0.01, (n_h1, n_x))\n",
    "    b1 = np.zeros((n_h1, 1))\n",
    "\n",
    "    W2 = np.random.uniform(-0.01, 0.01, (n_h2, n_h1))\n",
    "    b2 = np.zeros((n_h2, 1))\n",
    "\n",
    "    W3 = np.random.uniform(-0.01, 0.01, (n_y, n_h2))\n",
    "    b3 = np.zeros((n_y, 1))\n",
    "\n",
    "    parameters = {\n",
    "        \"W1\": W1,\n",
    "        \"b1\": b1,\n",
    "\n",
    "        \"W2\": W2,\n",
    "        \"b2\": b2,\n",
    "\n",
    "        \"W3\": W3,\n",
    "        \"b3\": b3\n",
    "    }\n",
    "\n",
    "    return parameters"
   ]
  },
  {
   "cell_type": "code",
   "execution_count": 161,
   "metadata": {},
   "outputs": [],
   "source": [
    "def layer_sizes(X, Y):\n",
    "    n_x = X.shape[0]\n",
    "    n_h1 = 16\n",
    "    n_h2 = 16\n",
    "    n_y  = 10\n",
    "    \n",
    "    return (n_x, n_h1, n_h2, n_y)"
   ]
  },
  {
   "cell_type": "code",
   "execution_count": 162,
   "metadata": {},
   "outputs": [],
   "source": [
    "def forward_propagation(X, parameters):\n",
    "    W1 = parameters['W1']\n",
    "    b1 = parameters['b1']\n",
    "\n",
    "    W2 = parameters['W2']\n",
    "    b2 = parameters['b2']\n",
    "    \n",
    "    W3 = parameters['W3']\n",
    "    b3 = parameters['b3']\n",
    "\n",
    "    Z1 = np.dot(W1, X) + b1\n",
    "    A1 = g_h(Z1)\n",
    "    \n",
    "    Z2 = np.dot(W2, A1) + b2\n",
    "    A2 = g_h(Z2)\n",
    "    \n",
    "    Z3 = np.dot(W3, A2) + b3\n",
    "    A3 = g_y(Z3)\n",
    "\n",
    "    # Caching for backpragation\n",
    "    cache = {\n",
    "        \"Z1\": Z1,\n",
    "        \"A1\": A1,\n",
    "        \n",
    "        \"Z2\": Z2,\n",
    "        \"A2\": A2,\n",
    "        \n",
    "        \"Z3\": Z3,\n",
    "        \"A3\": A3\n",
    "    }\n",
    "\n",
    "    return A3, cache"
   ]
  },
  {
   "cell_type": "code",
   "execution_count": 163,
   "metadata": {},
   "outputs": [],
   "source": [
    "def compute_cost(A3, Y, parameters):\n",
    "    m = Y.shape[1]\n",
    "    epsilon = 1e-8  # Small constant to avoid division by zero\n",
    "    cost = -np.sum(Y * np.log(A3 + epsilon) + (1 - Y) * np.log(1 - A3 + epsilon)) / m\n",
    "\n",
    "    return cost\n"
   ]
  },
  {
   "cell_type": "code",
   "execution_count": 164,
   "metadata": {},
   "outputs": [],
   "source": [
    "def backward_propagation(parameters, cache, X, Y):\n",
    "    m = X.shape[1]\n",
    "    \n",
    "    W1 = parameters[\"W1\"]\n",
    "    b1 = parameters[\"b1\"]\n",
    "\n",
    "    W2 = parameters[\"W2\"]\n",
    "    b2 = parameters[\"b2\"]\n",
    "    \n",
    "    W3 = parameters[\"W3\"]\n",
    "    b3 = parameters[\"b3\"]\n",
    "\n",
    "\n",
    "    Z1 = cache[\"Z1\"]\n",
    "    A1 = cache[\"A1\"]\n",
    "\n",
    "    Z2 = cache[\"Z2\"]\n",
    "    A2 = cache[\"A2\"]\n",
    "    \n",
    "    Z3 = cache[\"Z3\"]\n",
    "    A3 = cache[\"A3\"]\n",
    "    \n",
    "\n",
    "    dZ3 = A3 - Y\n",
    "    dW3 = (1/m) * np.dot(dZ3, A2.T)\n",
    "    db3 = (1/m) * np.sum(dZ3, axis=1, keepdims=True)\n",
    "\n",
    "    dZ2 = np.dot(W3.T, dZ3) * (A2 > 0)\n",
    "    dW2 = (1/m) * np.dot(dZ2, A1.T)\n",
    "    db2 = (1/m) * np.sum(dZ2, axis=1, keepdims=True)\n",
    "\n",
    "    dZ1 = np.dot(W2.T, dZ2) * (A1 > 0)\n",
    "    dW1 = (1/m) * np.dot(dZ1, X.T)\n",
    "    db1 = (1/m) * np.sum(dZ1, axis=1, keepdims=True)\n",
    "\n",
    "    grads = {\n",
    "        \"dW1\": dW1,\n",
    "        \"db1\": db1,\n",
    "\n",
    "        \"dW2\": dW2,\n",
    "        \"db2\": db2,\n",
    "        \n",
    "        \"dW3\": dW3,\n",
    "        \"db3\": db3\n",
    "    }\n",
    "    \n",
    "    return grads"
   ]
  },
  {
   "cell_type": "code",
   "execution_count": 165,
   "metadata": {},
   "outputs": [],
   "source": [
    "def update_parameters(parameters, grads, lr):\n",
    "    W1 = parameters[\"W1\"]\n",
    "    b1 = parameters[\"b1\"]\n",
    "\n",
    "    W2 = parameters[\"W2\"]\n",
    "    b2 = parameters[\"b2\"]\n",
    "    \n",
    "    W3 = parameters[\"W3\"]\n",
    "    b3 = parameters[\"b3\"]\n",
    "    \n",
    "\n",
    "    dW1 = grads[\"dW1\"]\n",
    "    db1 = grads[\"db1\"]\n",
    "\n",
    "    dW2 = grads[\"dW2\"]\n",
    "    db2 = grads[\"db2\"]\n",
    "    \n",
    "    dW3 = grads[\"dW3\"]\n",
    "    db3 = grads[\"db3\"]\n",
    "    \n",
    "    W1 = W1 - lr * dW1\n",
    "    b1 = b1 - lr * db1\n",
    "\n",
    "    W2 = W2 - lr * dW2\n",
    "    b2 = b2 - lr * db2\n",
    "    \n",
    "    W3 = W3 - lr * dW3\n",
    "    b3 = b3 - lr * db3\n",
    "\n",
    "    parameters = {\n",
    "        \"W1\": W1,\n",
    "        \"b1\": b1,\n",
    "\n",
    "        \"W2\": W2,\n",
    "        \"b2\": b2,\n",
    "\n",
    "        \"W3\": W3,\n",
    "        \"b3\": b3\n",
    "    }\n",
    "    \n",
    "    return parameters"
   ]
  },
  {
   "attachments": {},
   "cell_type": "markdown",
   "metadata": {},
   "source": [
    "## Integrating into a `nn_model`"
   ]
  },
  {
   "cell_type": "code",
   "execution_count": 166,
   "metadata": {},
   "outputs": [],
   "source": [
    "def nn_model(X, Y, n_h1, n_h2, lr, max_iterations=10000, print_cost=False):\n",
    "    n_x = layer_sizes(X, Y)[0]\n",
    "    n_y = layer_sizes(X, Y)[-1]\n",
    "    \n",
    "    parameters = initialise_parameters(n_x, n_h1, n_h2, n_y)\n",
    "    \n",
    "    W1 = parameters['W1']\n",
    "    b1 = parameters['b1']\n",
    "\n",
    "    W2 = parameters['W2']\n",
    "    b2 = parameters['b2']\n",
    "    \n",
    "    W3 = parameters['W3']\n",
    "    b3 = parameters['b3']\n",
    "    \n",
    "    # Gradient descent\n",
    "    for i in range(0, max_iterations):\n",
    "        # Forward propagation\n",
    "        A3, cache = forward_propagation(X, parameters)  # cache === {Z1, A1, ...}\n",
    "\n",
    "        # Cost function\n",
    "        cost = compute_cost(A3, Y, parameters)\n",
    "\n",
    "        # Backpropagation\n",
    "        grads = backward_propagation(parameters, cache, X, Y)\n",
    "\n",
    "        # Update rule for each parameter\n",
    "        parameters = update_parameters(parameters, grads, lr)\n",
    "\n",
    "        if print_cost==True and i % 100 == 0:\n",
    "            print (\"Cost after iteration %i: %f\" %(i, cost))\n",
    "            \n",
    "    return parameters"
   ]
  },
  {
   "cell_type": "code",
   "execution_count": 167,
   "metadata": {},
   "outputs": [],
   "source": [
    "def predict(parameters, X):\n",
    "    A3, cache = forward_propagation(X, parameters)\n",
    "    predictions = A3.copy() #np.where(A3 > 0.5, 1, 0)\n",
    "    \n",
    "    return predictions"
   ]
  },
  {
   "cell_type": "code",
   "execution_count": 168,
   "metadata": {},
   "outputs": [
    {
     "name": "stdout",
     "output_type": "stream",
     "text": [
      "Cost after iteration 0: 1406.201198\n"
     ]
    }
   ],
   "source": [
    "parameters = nn_model(X, Y, n_h1=16, n_h2=16, lr=0.01, max_iterations=10_000, print_cost=True)\n",
    "predictions = predict(parameters, X)\n",
    "accuracy = float((np.dot(Y,predictions.T) + np.dot(1-Y,1-predictions.T))/float(Y.size)*100)\n",
    "print (f\"Accuracy = {accuracy}\")"
   ]
  }
 ],
 "metadata": {
  "kernelspec": {
   "display_name": "Python 3",
   "language": "python",
   "name": "python3"
  },
  "language_info": {
   "codemirror_mode": {
    "name": "ipython",
    "version": 3
   },
   "file_extension": ".py",
   "mimetype": "text/x-python",
   "name": "python",
   "nbconvert_exporter": "python",
   "pygments_lexer": "ipython3",
   "version": "3.11.3"
  },
  "orig_nbformat": 4
 },
 "nbformat": 4,
 "nbformat_minor": 2
}
